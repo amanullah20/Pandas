{
 "cells": [
  {
   "cell_type": "code",
   "execution_count": null,
   "id": "85f22c74",
   "metadata": {},
   "outputs": [],
   "source": []
  },
  {
   "cell_type": "code",
   "execution_count": 1,
   "id": "12939594",
   "metadata": {},
   "outputs": [
    {
     "name": "stdout",
     "output_type": "stream",
     "text": [
      "Grouped DataFrame with Aggregations:\n",
      "          Value           \n",
      "           sum       mean\n",
      "Category                 \n",
      "A           55  18.333333\n",
      "B           45  22.500000\n",
      "C           80  40.000000\n"
     ]
    }
   ],
   "source": [
    "# Example 1: Pandas - Grouping and Aggregation\n",
    "import pandas as pd\n",
    "\n",
    "# Creating a DataFrame\n",
    "data = {'Category': ['A', 'B', 'A', 'B', 'C', 'C', 'A'],\n",
    "        'Value': [10, 20, 15, 25, 35, 45, 30]}\n",
    "df = pd.DataFrame(data)\n",
    "\n",
    "# Grouping by 'Category' and calculating the sum and mean\n",
    "grouped = df.groupby('Category').agg({'Value': ['sum', 'mean']})\n",
    "\n",
    "print('Grouped DataFrame with Aggregations:\\n', grouped)\n"
   ]
  },
  {
   "cell_type": "code",
   "execution_count": 3,
   "id": "67181352",
   "metadata": {},
   "outputs": [
    {
     "data": {
      "text/html": [
       "<div>\n",
       "<style scoped>\n",
       "    .dataframe tbody tr th:only-of-type {\n",
       "        vertical-align: middle;\n",
       "    }\n",
       "\n",
       "    .dataframe tbody tr th {\n",
       "        vertical-align: top;\n",
       "    }\n",
       "\n",
       "    .dataframe thead th {\n",
       "        text-align: right;\n",
       "    }\n",
       "</style>\n",
       "<table border=\"1\" class=\"dataframe\">\n",
       "  <thead>\n",
       "    <tr style=\"text-align: right;\">\n",
       "      <th></th>\n",
       "      <th>Category</th>\n",
       "      <th>Value</th>\n",
       "    </tr>\n",
       "  </thead>\n",
       "  <tbody>\n",
       "    <tr>\n",
       "      <th>0</th>\n",
       "      <td>A</td>\n",
       "      <td>10</td>\n",
       "    </tr>\n",
       "    <tr>\n",
       "      <th>1</th>\n",
       "      <td>B</td>\n",
       "      <td>20</td>\n",
       "    </tr>\n",
       "    <tr>\n",
       "      <th>2</th>\n",
       "      <td>A</td>\n",
       "      <td>15</td>\n",
       "    </tr>\n",
       "    <tr>\n",
       "      <th>3</th>\n",
       "      <td>B</td>\n",
       "      <td>25</td>\n",
       "    </tr>\n",
       "    <tr>\n",
       "      <th>4</th>\n",
       "      <td>C</td>\n",
       "      <td>35</td>\n",
       "    </tr>\n",
       "    <tr>\n",
       "      <th>5</th>\n",
       "      <td>C</td>\n",
       "      <td>45</td>\n",
       "    </tr>\n",
       "    <tr>\n",
       "      <th>6</th>\n",
       "      <td>A</td>\n",
       "      <td>30</td>\n",
       "    </tr>\n",
       "  </tbody>\n",
       "</table>\n",
       "</div>"
      ],
      "text/plain": [
       "  Category  Value\n",
       "0        A     10\n",
       "1        B     20\n",
       "2        A     15\n",
       "3        B     25\n",
       "4        C     35\n",
       "5        C     45\n",
       "6        A     30"
      ]
     },
     "execution_count": 3,
     "metadata": {},
     "output_type": "execute_result"
    }
   ],
   "source": [
    "df"
   ]
  },
  {
   "cell_type": "code",
   "execution_count": 6,
   "id": "4e42f4e8",
   "metadata": {},
   "outputs": [
    {
     "data": {
      "text/html": [
       "<div>\n",
       "<style scoped>\n",
       "    .dataframe tbody tr th:only-of-type {\n",
       "        vertical-align: middle;\n",
       "    }\n",
       "\n",
       "    .dataframe tbody tr th {\n",
       "        vertical-align: top;\n",
       "    }\n",
       "\n",
       "    .dataframe thead tr th {\n",
       "        text-align: left;\n",
       "    }\n",
       "\n",
       "    .dataframe thead tr:last-of-type th {\n",
       "        text-align: right;\n",
       "    }\n",
       "</style>\n",
       "<table border=\"1\" class=\"dataframe\">\n",
       "  <thead>\n",
       "    <tr>\n",
       "      <th></th>\n",
       "      <th colspan=\"2\" halign=\"left\">Value</th>\n",
       "    </tr>\n",
       "    <tr>\n",
       "      <th></th>\n",
       "      <th>sum</th>\n",
       "      <th>mean</th>\n",
       "    </tr>\n",
       "    <tr>\n",
       "      <th>Category</th>\n",
       "      <th></th>\n",
       "      <th></th>\n",
       "    </tr>\n",
       "  </thead>\n",
       "  <tbody>\n",
       "    <tr>\n",
       "      <th>A</th>\n",
       "      <td>55</td>\n",
       "      <td>18.333333</td>\n",
       "    </tr>\n",
       "    <tr>\n",
       "      <th>B</th>\n",
       "      <td>45</td>\n",
       "      <td>22.500000</td>\n",
       "    </tr>\n",
       "    <tr>\n",
       "      <th>C</th>\n",
       "      <td>80</td>\n",
       "      <td>40.000000</td>\n",
       "    </tr>\n",
       "  </tbody>\n",
       "</table>\n",
       "</div>"
      ],
      "text/plain": [
       "         Value           \n",
       "           sum       mean\n",
       "Category                 \n",
       "A           55  18.333333\n",
       "B           45  22.500000\n",
       "C           80  40.000000"
      ]
     },
     "execution_count": 6,
     "metadata": {},
     "output_type": "execute_result"
    }
   ],
   "source": [
    "df.groupby('Category').agg({'Value':['sum','mean']})"
   ]
  },
  {
   "cell_type": "code",
   "execution_count": 7,
   "id": "e5a36655",
   "metadata": {},
   "outputs": [
    {
     "name": "stdout",
     "output_type": "stream",
     "text": [
      "Sales Data in 2020:\n",
      "           Sales\n",
      "Category       \n",
      "A           100\n",
      "B           200\n"
     ]
    }
   ],
   "source": [
    "# Example 2: Pandas - MultiIndex DataFrame Operations\n",
    "import pandas as pd\n",
    "\n",
    "# Creating a MultiIndex DataFrame\n",
    "arrays = [['A', 'A', 'B', 'B'], [2020, 2021, 2020, 2021]]\n",
    "index = pd.MultiIndex.from_arrays(arrays, names=('Category', 'Year'))\n",
    "data = [100, 150, 200, 250]\n",
    "df = pd.DataFrame(data, index=index, columns=['Sales'])\n",
    "\n",
    "# Accessing data in a MultiIndex DataFrame\n",
    "sales_in_2020 = df.xs(2020, level='Year')\n",
    "\n",
    "print('Sales Data in 2020:\\n', sales_in_2020)\n"
   ]
  },
  {
   "cell_type": "code",
   "execution_count": 8,
   "id": "d0882465",
   "metadata": {},
   "outputs": [
    {
     "data": {
      "text/html": [
       "<div>\n",
       "<style scoped>\n",
       "    .dataframe tbody tr th:only-of-type {\n",
       "        vertical-align: middle;\n",
       "    }\n",
       "\n",
       "    .dataframe tbody tr th {\n",
       "        vertical-align: top;\n",
       "    }\n",
       "\n",
       "    .dataframe thead th {\n",
       "        text-align: right;\n",
       "    }\n",
       "</style>\n",
       "<table border=\"1\" class=\"dataframe\">\n",
       "  <thead>\n",
       "    <tr style=\"text-align: right;\">\n",
       "      <th></th>\n",
       "      <th></th>\n",
       "      <th>Sales</th>\n",
       "    </tr>\n",
       "    <tr>\n",
       "      <th>Category</th>\n",
       "      <th>Year</th>\n",
       "      <th></th>\n",
       "    </tr>\n",
       "  </thead>\n",
       "  <tbody>\n",
       "    <tr>\n",
       "      <th rowspan=\"2\" valign=\"top\">A</th>\n",
       "      <th>2020</th>\n",
       "      <td>100</td>\n",
       "    </tr>\n",
       "    <tr>\n",
       "      <th>2021</th>\n",
       "      <td>150</td>\n",
       "    </tr>\n",
       "    <tr>\n",
       "      <th rowspan=\"2\" valign=\"top\">B</th>\n",
       "      <th>2020</th>\n",
       "      <td>200</td>\n",
       "    </tr>\n",
       "    <tr>\n",
       "      <th>2021</th>\n",
       "      <td>250</td>\n",
       "    </tr>\n",
       "  </tbody>\n",
       "</table>\n",
       "</div>"
      ],
      "text/plain": [
       "               Sales\n",
       "Category Year       \n",
       "A        2020    100\n",
       "         2021    150\n",
       "B        2020    200\n",
       "         2021    250"
      ]
     },
     "execution_count": 8,
     "metadata": {},
     "output_type": "execute_result"
    }
   ],
   "source": [
    "df"
   ]
  },
  {
   "cell_type": "code",
   "execution_count": 9,
   "id": "f9b37111",
   "metadata": {},
   "outputs": [
    {
     "data": {
      "text/plain": [
       "MultiIndex([('A', 2020),\n",
       "            ('A', 2021),\n",
       "            ('B', 2020),\n",
       "            ('B', 2021)],\n",
       "           names=['Category', 'Year'])"
      ]
     },
     "execution_count": 9,
     "metadata": {},
     "output_type": "execute_result"
    }
   ],
   "source": [
    "index"
   ]
  },
  {
   "cell_type": "code",
   "execution_count": 10,
   "id": "ff2bd70a",
   "metadata": {},
   "outputs": [
    {
     "name": "stdout",
     "output_type": "stream",
     "text": [
      "DataFrame with Adjusted Scores:\n",
      "       Name  Score  Adjusted Score\n",
      "0    Alice     85              90\n",
      "1      Bob     90              90\n",
      "2  Charlie     95              95\n"
     ]
    }
   ],
   "source": [
    "# Example 3: Pandas - Using Apply with Lambda Functions\n",
    "import pandas as pd\n",
    "\n",
    "# Creating a DataFrame\n",
    "data = {'Name': ['Alice', 'Bob', 'Charlie'], 'Score': [85, 90, 95]}\n",
    "df = pd.DataFrame(data)\n",
    "\n",
    "# Applying a lambda function to modify scores\n",
    "df['Adjusted Score'] = df['Score'].apply(lambda x: x + 5 if x < 90 else x)\n",
    "\n",
    "print('DataFrame with Adjusted Scores:\\n', df)\n"
   ]
  },
  {
   "cell_type": "code",
   "execution_count": 14,
   "id": "3a3b68c5",
   "metadata": {},
   "outputs": [],
   "source": [
    "df['final Score']=df['Score'].apply(lambda x : x *2 if x>90 else x)"
   ]
  },
  {
   "cell_type": "code",
   "execution_count": 15,
   "id": "5fd155fd",
   "metadata": {},
   "outputs": [
    {
     "data": {
      "text/html": [
       "<div>\n",
       "<style scoped>\n",
       "    .dataframe tbody tr th:only-of-type {\n",
       "        vertical-align: middle;\n",
       "    }\n",
       "\n",
       "    .dataframe tbody tr th {\n",
       "        vertical-align: top;\n",
       "    }\n",
       "\n",
       "    .dataframe thead th {\n",
       "        text-align: right;\n",
       "    }\n",
       "</style>\n",
       "<table border=\"1\" class=\"dataframe\">\n",
       "  <thead>\n",
       "    <tr style=\"text-align: right;\">\n",
       "      <th></th>\n",
       "      <th>Name</th>\n",
       "      <th>Score</th>\n",
       "      <th>Adjusted Score</th>\n",
       "      <th>final Score</th>\n",
       "    </tr>\n",
       "  </thead>\n",
       "  <tbody>\n",
       "    <tr>\n",
       "      <th>0</th>\n",
       "      <td>Alice</td>\n",
       "      <td>85</td>\n",
       "      <td>90</td>\n",
       "      <td>85</td>\n",
       "    </tr>\n",
       "    <tr>\n",
       "      <th>1</th>\n",
       "      <td>Bob</td>\n",
       "      <td>90</td>\n",
       "      <td>90</td>\n",
       "      <td>90</td>\n",
       "    </tr>\n",
       "    <tr>\n",
       "      <th>2</th>\n",
       "      <td>Charlie</td>\n",
       "      <td>95</td>\n",
       "      <td>95</td>\n",
       "      <td>190</td>\n",
       "    </tr>\n",
       "  </tbody>\n",
       "</table>\n",
       "</div>"
      ],
      "text/plain": [
       "      Name  Score  Adjusted Score  final Score\n",
       "0    Alice     85              90           85\n",
       "1      Bob     90              90           90\n",
       "2  Charlie     95              95          190"
      ]
     },
     "execution_count": 15,
     "metadata": {},
     "output_type": "execute_result"
    }
   ],
   "source": [
    "df"
   ]
  },
  {
   "cell_type": "code",
   "execution_count": 16,
   "id": "e11d5e28",
   "metadata": {},
   "outputs": [
    {
     "name": "stdout",
     "output_type": "stream",
     "text": [
      "Merged DataFrame:\n",
      "     ID     Name  Emp_ID Department\n",
      "0  1.0    Alice     NaN        NaN\n",
      "1  2.0      Bob     2.0         HR\n",
      "2  3.0  Charlie     3.0    Finance\n",
      "3  NaN      NaN     4.0         IT\n"
     ]
    }
   ],
   "source": [
    "# Example 4: Pandas - Merging DataFrames with Different Keys\n",
    "import pandas as pd\n",
    "\n",
    "# Creating two DataFrames\n",
    "df1 = pd.DataFrame({'ID': [1, 2, 3], 'Name': ['Alice', 'Bob', 'Charlie']})\n",
    "df2 = pd.DataFrame({'Emp_ID': [2, 3, 4], 'Department': ['HR', 'Finance', 'IT']})\n",
    "\n",
    "# Merging with different keys\n",
    "merged_df = pd.merge(df1, df2, left_on='ID', right_on='Emp_ID', how='outer')\n",
    "\n",
    "print('Merged DataFrame:\\n', merged_df)\n"
   ]
  },
  {
   "cell_type": "code",
   "execution_count": 17,
   "id": "760f498a",
   "metadata": {},
   "outputs": [
    {
     "data": {
      "text/html": [
       "<div>\n",
       "<style scoped>\n",
       "    .dataframe tbody tr th:only-of-type {\n",
       "        vertical-align: middle;\n",
       "    }\n",
       "\n",
       "    .dataframe tbody tr th {\n",
       "        vertical-align: top;\n",
       "    }\n",
       "\n",
       "    .dataframe thead th {\n",
       "        text-align: right;\n",
       "    }\n",
       "</style>\n",
       "<table border=\"1\" class=\"dataframe\">\n",
       "  <thead>\n",
       "    <tr style=\"text-align: right;\">\n",
       "      <th></th>\n",
       "      <th>ID</th>\n",
       "      <th>Name</th>\n",
       "    </tr>\n",
       "  </thead>\n",
       "  <tbody>\n",
       "    <tr>\n",
       "      <th>0</th>\n",
       "      <td>1</td>\n",
       "      <td>Alice</td>\n",
       "    </tr>\n",
       "    <tr>\n",
       "      <th>1</th>\n",
       "      <td>2</td>\n",
       "      <td>Bob</td>\n",
       "    </tr>\n",
       "    <tr>\n",
       "      <th>2</th>\n",
       "      <td>3</td>\n",
       "      <td>Charlie</td>\n",
       "    </tr>\n",
       "  </tbody>\n",
       "</table>\n",
       "</div>"
      ],
      "text/plain": [
       "   ID     Name\n",
       "0   1    Alice\n",
       "1   2      Bob\n",
       "2   3  Charlie"
      ]
     },
     "execution_count": 17,
     "metadata": {},
     "output_type": "execute_result"
    }
   ],
   "source": [
    "df1"
   ]
  },
  {
   "cell_type": "code",
   "execution_count": 19,
   "id": "c7b37b6b",
   "metadata": {},
   "outputs": [],
   "source": [
    "merge2 = pd.merge(df1,df2,left_on='ID',right_on='Emp_ID')"
   ]
  },
  {
   "cell_type": "code",
   "execution_count": 20,
   "id": "0dfb0b9b",
   "metadata": {},
   "outputs": [
    {
     "data": {
      "text/html": [
       "<div>\n",
       "<style scoped>\n",
       "    .dataframe tbody tr th:only-of-type {\n",
       "        vertical-align: middle;\n",
       "    }\n",
       "\n",
       "    .dataframe tbody tr th {\n",
       "        vertical-align: top;\n",
       "    }\n",
       "\n",
       "    .dataframe thead th {\n",
       "        text-align: right;\n",
       "    }\n",
       "</style>\n",
       "<table border=\"1\" class=\"dataframe\">\n",
       "  <thead>\n",
       "    <tr style=\"text-align: right;\">\n",
       "      <th></th>\n",
       "      <th>ID</th>\n",
       "      <th>Name</th>\n",
       "      <th>Emp_ID</th>\n",
       "      <th>Department</th>\n",
       "    </tr>\n",
       "  </thead>\n",
       "  <tbody>\n",
       "    <tr>\n",
       "      <th>0</th>\n",
       "      <td>2</td>\n",
       "      <td>Bob</td>\n",
       "      <td>2</td>\n",
       "      <td>HR</td>\n",
       "    </tr>\n",
       "    <tr>\n",
       "      <th>1</th>\n",
       "      <td>3</td>\n",
       "      <td>Charlie</td>\n",
       "      <td>3</td>\n",
       "      <td>Finance</td>\n",
       "    </tr>\n",
       "  </tbody>\n",
       "</table>\n",
       "</div>"
      ],
      "text/plain": [
       "   ID     Name  Emp_ID Department\n",
       "0   2      Bob       2         HR\n",
       "1   3  Charlie       3    Finance"
      ]
     },
     "execution_count": 20,
     "metadata": {},
     "output_type": "execute_result"
    }
   ],
   "source": [
    "merge2"
   ]
  },
  {
   "cell_type": "code",
   "execution_count": 21,
   "id": "537b655e",
   "metadata": {},
   "outputs": [
    {
     "name": "stdout",
     "output_type": "stream",
     "text": [
      "DataFrame after Handling Missing Values:\n",
      "       Name   Age\n",
      "0    Alice  25.0\n",
      "1      Bob  35.0\n",
      "2  Unknown  35.0\n",
      "3    David  40.0\n"
     ]
    }
   ],
   "source": [
    "# Example 5: Pandas - Handling Missing Values with Custom Functions\n",
    "import pandas as pd\n",
    "import numpy as np\n",
    "\n",
    "# Creating a DataFrame with missing values\n",
    "data = {'Name': ['Alice', 'Bob', np.nan, 'David'], 'Age': [25, np.nan, 35, 40]}\n",
    "df = pd.DataFrame(data)\n",
    "\n",
    "# Filling missing values using a custom function\n",
    "df['Name'].fillna('Unknown', inplace=True)\n",
    "df['Age'].fillna(df['Age'].median(), inplace=True)\n",
    "\n",
    "print('DataFrame after Handling Missing Values:\\n', df)\n"
   ]
  },
  {
   "cell_type": "code",
   "execution_count": null,
   "id": "9741503a",
   "metadata": {},
   "outputs": [],
   "source": [
    "df"
   ]
  },
  {
   "cell_type": "code",
   "execution_count": null,
   "id": "e70b3d78",
   "metadata": {},
   "outputs": [],
   "source": []
  },
  {
   "cell_type": "code",
   "execution_count": 22,
   "id": "e8b25343",
   "metadata": {},
   "outputs": [
    {
     "name": "stdout",
     "output_type": "stream",
     "text": [
      "Pivoted DataFrame:\n",
      " City         LA   NY\n",
      "Date                \n",
      "2023-01-01  300  200\n",
      "2023-01-02  400  250\n"
     ]
    }
   ],
   "source": [
    "# Example 6: Pandas - Pivoting DataFrames\n",
    "import pandas as pd\n",
    "\n",
    "# Creating a DataFrame\n",
    "data = {'Date': ['2023-01-01', '2023-01-02', '2023-01-01', '2023-01-02'],\n",
    "        'City': ['NY', 'NY', 'LA', 'LA'],\n",
    "        'Sales': [200, 250, 300, 400]}\n",
    "df = pd.DataFrame(data)\n",
    "\n",
    "# Pivoting the DataFrame\n",
    "pivot_df = df.pivot(index='Date', columns='City', values='Sales')\n",
    "\n",
    "print('Pivoted DataFrame:\\n', pivot_df)\n"
   ]
  },
  {
   "cell_type": "code",
   "execution_count": null,
   "id": "dc9ecd9e",
   "metadata": {},
   "outputs": [],
   "source": []
  },
  {
   "cell_type": "code",
   "execution_count": 23,
   "id": "c33415de",
   "metadata": {},
   "outputs": [
    {
     "name": "stdout",
     "output_type": "stream",
     "text": [
      "Melted DataFrame:\n",
      "    ID  Subject  Score\n",
      "0   1     Math     90\n",
      "1   2     Math     80\n",
      "2   1  Science     85\n",
      "3   2  Science     88\n"
     ]
    }
   ],
   "source": [
    "# Example 7: Pandas - Melting DataFrames\n",
    "import pandas as pd\n",
    "\n",
    "# Creating a DataFrame\n",
    "data = {'ID': [1, 2], 'Math': [90, 80], 'Science': [85, 88]}\n",
    "df = pd.DataFrame(data)\n",
    "\n",
    "# Melting the DataFrame\n",
    "melted_df = pd.melt(df, id_vars=['ID'], value_vars=['Math', 'Science'], var_name='Subject', value_name='Score')\n",
    "\n",
    "print('Melted DataFrame:\\n', melted_df)\n"
   ]
  },
  {
   "cell_type": "code",
   "execution_count": 24,
   "id": "785f5833",
   "metadata": {},
   "outputs": [
    {
     "data": {
      "text/html": [
       "<div>\n",
       "<style scoped>\n",
       "    .dataframe tbody tr th:only-of-type {\n",
       "        vertical-align: middle;\n",
       "    }\n",
       "\n",
       "    .dataframe tbody tr th {\n",
       "        vertical-align: top;\n",
       "    }\n",
       "\n",
       "    .dataframe thead th {\n",
       "        text-align: right;\n",
       "    }\n",
       "</style>\n",
       "<table border=\"1\" class=\"dataframe\">\n",
       "  <thead>\n",
       "    <tr style=\"text-align: right;\">\n",
       "      <th></th>\n",
       "      <th>ID</th>\n",
       "      <th>Math</th>\n",
       "      <th>Science</th>\n",
       "    </tr>\n",
       "  </thead>\n",
       "  <tbody>\n",
       "    <tr>\n",
       "      <th>0</th>\n",
       "      <td>1</td>\n",
       "      <td>90</td>\n",
       "      <td>85</td>\n",
       "    </tr>\n",
       "    <tr>\n",
       "      <th>1</th>\n",
       "      <td>2</td>\n",
       "      <td>80</td>\n",
       "      <td>88</td>\n",
       "    </tr>\n",
       "  </tbody>\n",
       "</table>\n",
       "</div>"
      ],
      "text/plain": [
       "   ID  Math  Science\n",
       "0   1    90       85\n",
       "1   2    80       88"
      ]
     },
     "execution_count": 24,
     "metadata": {},
     "output_type": "execute_result"
    }
   ],
   "source": [
    "df"
   ]
  },
  {
   "cell_type": "code",
   "execution_count": 25,
   "id": "037474b8",
   "metadata": {},
   "outputs": [
    {
     "name": "stdout",
     "output_type": "stream",
     "text": [
      "Weekly Sales:\n",
      "             Sales\n",
      "2023-01-01    100\n",
      "2023-01-08   1950\n",
      "2023-01-15    700\n"
     ]
    }
   ],
   "source": [
    "# Example 8: Pandas - Time-based Indexing and Resampling\n",
    "import pandas as pd\n",
    "\n",
    "# Creating a time series DataFrame\n",
    "date_range = pd.date_range(start='2023-01-01', periods=10, freq='D')\n",
    "data = {'Sales': [100, 200, 150, 300, 250, 400, 300, 350, 300, 400]}\n",
    "df = pd.DataFrame(data, index=date_range)\n",
    "\n",
    "# Resampling to find weekly sales\n",
    "weekly_sales = df.resample('W').sum()\n",
    "\n",
    "print('Weekly Sales:\\n', weekly_sales)\n"
   ]
  },
  {
   "cell_type": "code",
   "execution_count": 26,
   "id": "0ab2da8e",
   "metadata": {},
   "outputs": [
    {
     "data": {
      "text/plain": [
       "DatetimeIndex(['2023-01-01', '2023-01-02', '2023-01-03', '2023-01-04',\n",
       "               '2023-01-05', '2023-01-06', '2023-01-07', '2023-01-08',\n",
       "               '2023-01-09', '2023-01-10'],\n",
       "              dtype='datetime64[ns]', freq='D')"
      ]
     },
     "execution_count": 26,
     "metadata": {},
     "output_type": "execute_result"
    }
   ],
   "source": [
    "date_range"
   ]
  },
  {
   "cell_type": "code",
   "execution_count": 27,
   "id": "a9a31889",
   "metadata": {},
   "outputs": [
    {
     "name": "stdout",
     "output_type": "stream",
     "text": [
      "Filtered DataFrame:\n",
      "       Name  Score  Passed\n",
      "0    Alice     85    True\n",
      "2  Charlie     95    True\n"
     ]
    }
   ],
   "source": [
    "# Example 9: Pandas - Conditional Filtering with Multiple Conditions\n",
    "import pandas as pd\n",
    "\n",
    "# Creating a DataFrame\n",
    "data = {'Name': ['Alice', 'Bob', 'Charlie', 'David'], 'Score': [85, 70, 95, 60], 'Passed': [True, False, True, False]}\n",
    "df = pd.DataFrame(data)\n",
    "\n",
    "# Filtering with multiple conditions\n",
    "filtered_df = df[(df['Score'] > 80) & (df['Passed'] == True)]\n",
    "\n",
    "print('Filtered DataFrame:\\n', filtered_df)\n"
   ]
  },
  {
   "cell_type": "code",
   "execution_count": 28,
   "id": "00a922f6",
   "metadata": {},
   "outputs": [
    {
     "name": "stdout",
     "output_type": "stream",
     "text": [
      "DataFrame with Categorical Performance:\n",
      "       Name  Score Performance\n",
      "0    Alice     85     Average\n",
      "1      Bob     70        Poor\n",
      "2  Charlie     95   Excellent\n",
      "3    David     60        Poor\n"
     ]
    }
   ],
   "source": [
    "# Example 10: Pandas - Creating Custom Categorical Data\n",
    "import pandas as pd\n",
    "\n",
    "# Creating a DataFrame\n",
    "data = {'Name': ['Alice', 'Bob', 'Charlie', 'David'], 'Score': [85, 70, 95, 60]}\n",
    "df = pd.DataFrame(data)\n",
    "\n",
    "# Creating a new column with categorical data\n",
    "df['Performance'] = pd.cut(df['Score'], bins=[0, 70, 90, 100], labels=['Poor', 'Average', 'Excellent'])\n",
    "\n",
    "print('DataFrame with Categorical Performance:\\n', df)\n"
   ]
  },
  {
   "cell_type": "code",
   "execution_count": 29,
   "id": "b0f189bd",
   "metadata": {},
   "outputs": [
    {
     "name": "stdout",
     "output_type": "stream",
     "text": [
      "DataFrame with Rolling Mean:\n",
      "             Sales  Rolling Mean\n",
      "2023-01-01    100           NaN\n",
      "2023-01-02    200           NaN\n",
      "2023-01-03    150    150.000000\n",
      "2023-01-04    300    216.666667\n",
      "2023-01-05    250    233.333333\n",
      "2023-01-06    400    316.666667\n",
      "2023-01-07    300    316.666667\n",
      "2023-01-08    350    350.000000\n",
      "2023-01-09    300    316.666667\n",
      "2023-01-10    400    350.000000\n"
     ]
    }
   ],
   "source": [
    "\n",
    "# Example 11: Pandas - Rolling Window Calculations\n",
    "import pandas as pd\n",
    "\n",
    "# Creating a time series DataFrame\n",
    "date_range = pd.date_range(start='2023-01-01', periods=10, freq='D')\n",
    "data = {'Sales': [100, 200, 150, 300, 250, 400, 300, 350, 300, 400]}\n",
    "df = pd.DataFrame(data, index=date_range)\n",
    "\n",
    "# Calculating a rolling mean with a window of 3 days\n",
    "df['Rolling Mean'] = df['Sales'].rolling(window=3).mean()\n",
    "\n",
    "print('DataFrame with Rolling Mean:\\n', df)\n"
   ]
  },
  {
   "cell_type": "code",
   "execution_count": 30,
   "id": "186a89d9",
   "metadata": {},
   "outputs": [
    {
     "name": "stdout",
     "output_type": "stream",
     "text": [
      "DataFrame with Shifted Data:\n",
      "         Date  Temperature  Prev Day Temp\n",
      "0 2023-01-01           30            NaN\n",
      "1 2023-01-02           32           30.0\n",
      "2 2023-01-03           35           32.0\n",
      "3 2023-01-04           33           35.0\n",
      "4 2023-01-05           31           33.0\n"
     ]
    }
   ],
   "source": [
    "# Example 12: Pandas - Shift and Lagging Data\n",
    "import pandas as pd\n",
    "\n",
    "# Creating a DataFrame\n",
    "data = {'Date': pd.date_range(start='2023-01-01', periods=5, freq='D'),\n",
    "        'Temperature': [30, 32, 35, 33, 31]}\n",
    "df = pd.DataFrame(data)\n",
    "\n",
    "# Shifting data by one day to create a lag\n",
    "df['Prev Day Temp'] = df['Temperature'].shift(1)\n",
    "\n",
    "print('DataFrame with Shifted Data:\\n', df)\n"
   ]
  },
  {
   "cell_type": "code",
   "execution_count": 1,
   "id": "02c68df9",
   "metadata": {},
   "outputs": [
    {
     "name": "stdout",
     "output_type": "stream",
     "text": [
      "DataFrame with Cumulative Operations:\n",
      "    Sales  Cumulative Sum  Cumulative Product\n",
      "0    100             100                 100\n",
      "1    200             300               20000\n",
      "2    150             450             3000000\n",
      "3    300             750           900000000\n",
      "4    250            1000        225000000000\n"
     ]
    }
   ],
   "source": [
    "\n",
    "# Example 13: Pandas - Cumulative Sum and Product\n",
    "import pandas as pd\n",
    "\n",
    "# Creating a DataFrame\n",
    "data = {'Sales': [100, 200, 150, 300, 250]}\n",
    "df = pd.DataFrame(data)\n",
    "\n",
    "# Calculating cumulative sum and product\n",
    "df['Cumulative Sum'] = df['Sales'].cumsum()\n",
    "df['Cumulative Product'] = df['Sales'].cumprod()\n",
    "\n",
    "print('DataFrame with Cumulative Operations:\\n', df)\n"
   ]
  },
  {
   "cell_type": "code",
   "execution_count": null,
   "id": "e75f1733",
   "metadata": {},
   "outputs": [],
   "source": [
    "# Example 14: Pandas - Merging on Multiple Columns\n",
    "import pandas as pd\n",
    "\n",
    "# Creating two DataFrames\n",
    "df1 = pd.DataFrame({'ID': [1, 2, 3], 'Year': [2020, 2021, 2021], 'Name': ['Alice', 'Bob', 'Charlie']})\n",
    "df2 = pd.DataFrame({'ID': [2, 3, 1], 'Year': [2021, 2021, 2020], 'Score': [88, 92, 75]})\n",
    "\n",
    "# Merging on multiple columns\n",
    "merged_df = pd.merge(df1, df2, on=['ID', 'Year'], how='inner')\n",
    "\n",
    "print('Merged DataFrame on Multiple Columns:\\n', merged_df)\n"
   ]
  },
  {
   "cell_type": "code",
   "execution_count": 2,
   "id": "88b4f7ee",
   "metadata": {},
   "outputs": [
    {
     "name": "stdout",
     "output_type": "stream",
     "text": [
      "Outliers:\n",
      "    Value\n",
      "3    100\n"
     ]
    }
   ],
   "source": [
    "# Example 15: Pandas - Handling Outliers\n",
    "import pandas as pd\n",
    "import numpy as np\n",
    "\n",
    "# Creating a DataFrame\n",
    "data = {'Value': [10, 12, 14, 100, 15, 13, 12]}\n",
    "df = pd.DataFrame(data)\n",
    "\n",
    "# Identifying outliers using the IQR method\n",
    "Q1 = df['Value'].quantile(0.25)\n",
    "Q3 = df['Value'].quantile(0.75)\n",
    "IQR = Q3 - Q1\n",
    "outliers = df[(df['Value'] < (Q1 - 1.5 * IQR)) | (df['Value'] > (Q3 + 1.5 * IQR))]\n",
    "\n",
    "print('Outliers:\\n', outliers)\n"
   ]
  },
  {
   "cell_type": "code",
   "execution_count": 3,
   "id": "588073df",
   "metadata": {},
   "outputs": [
    {
     "data": {
      "text/plain": [
       "12.0"
      ]
     },
     "execution_count": 3,
     "metadata": {},
     "output_type": "execute_result"
    }
   ],
   "source": [
    "Q1"
   ]
  },
  {
   "cell_type": "code",
   "execution_count": 4,
   "id": "e2af92c9",
   "metadata": {},
   "outputs": [
    {
     "data": {
      "text/plain": [
       "14.5"
      ]
     },
     "execution_count": 4,
     "metadata": {},
     "output_type": "execute_result"
    }
   ],
   "source": [
    "Q3"
   ]
  },
  {
   "cell_type": "code",
   "execution_count": 6,
   "id": "186fecec",
   "metadata": {},
   "outputs": [
    {
     "data": {
      "text/plain": [
       "3.75"
      ]
     },
     "execution_count": 6,
     "metadata": {},
     "output_type": "execute_result"
    }
   ],
   "source": [
    "IQR*1.5"
   ]
  },
  {
   "cell_type": "code",
   "execution_count": 7,
   "id": "2b3d5706",
   "metadata": {},
   "outputs": [
    {
     "name": "stdout",
     "output_type": "stream",
     "text": [
      "Pivot Table with Multiple Aggregations:\n",
      "         sum          mean       \n",
      "Year   2020   2021   2020   2021\n",
      "City                            \n",
      "LA    450.0    NaN  225.0    NaN\n",
      "NY    100.0  200.0  100.0  200.0\n",
      "SF      NaN  250.0    NaN  250.0\n"
     ]
    }
   ],
   "source": [
    "# Example 16: Pandas - Creating a Pivot Table with Multiple Aggregations\n",
    "import pandas as pd\n",
    "\n",
    "# Creating a DataFrame\n",
    "data = {'City': ['NY', 'LA', 'NY', 'SF', 'LA'], 'Year': [2020, 2020, 2021, 2021, 2020], 'Sales': [100, 150, 200, 250, 300]}\n",
    "df = pd.DataFrame(data)\n",
    "\n",
    "# Creating a pivot table with multiple aggregations\n",
    "pivot_table = pd.pivot_table(df, values='Sales', index='City', columns='Year', aggfunc=['sum', 'mean'])\n",
    "\n",
    "print('Pivot Table with Multiple Aggregations:\\n', pivot_table)\n"
   ]
  },
  {
   "cell_type": "code",
   "execution_count": 8,
   "id": "e52b4e80",
   "metadata": {},
   "outputs": [
    {
     "name": "stdout",
     "output_type": "stream",
     "text": [
      "DataFrame with Mapped Values:\n",
      "       Name Department  Dept Code\n",
      "0    Alice         HR          1\n",
      "1      Bob         IT          2\n",
      "2  Charlie    Finance          3\n"
     ]
    }
   ],
   "source": [
    "# Example 17: Pandas - Using map() for Value Replacement\n",
    "import pandas as pd\n",
    "\n",
    "# Creating a DataFrame\n",
    "data = {'Name': ['Alice', 'Bob', 'Charlie'], 'Department': ['HR', 'IT', 'Finance']}\n",
    "df = pd.DataFrame(data)\n",
    "\n",
    "# Mapping departments to codes\n",
    "department_map = {'HR': 1, 'IT': 2, 'Finance': 3}\n",
    "df['Dept Code'] = df['Department'].map(department_map)\n",
    "\n",
    "print('DataFrame with Mapped Values:\\n', df)\n"
   ]
  },
  {
   "cell_type": "code",
   "execution_count": 9,
   "id": "1b8cc823",
   "metadata": {},
   "outputs": [
    {
     "name": "stdout",
     "output_type": "stream",
     "text": [
      "Duplicate Rows:\n",
      "    ID  Value\n",
      "2   2     20\n",
      "5   4     40\n"
     ]
    }
   ],
   "source": [
    "\n",
    "# Example 18: Pandas - Detecting Duplicates\n",
    "import pandas as pd\n",
    "\n",
    "# Creating a DataFrame with duplicate rows\n",
    "data = {'ID': [1, 2, 2, 3, 4, 4], 'Value': [10, 20, 20, 30, 40, 40]}\n",
    "df = pd.DataFrame(data)\n",
    "\n",
    "# Detecting duplicates\n",
    "duplicates = df[df.duplicated()]\n",
    "\n",
    "print('Duplicate Rows:\\n', duplicates)\n"
   ]
  },
  {
   "cell_type": "code",
   "execution_count": 10,
   "id": "504595cc",
   "metadata": {},
   "outputs": [
    {
     "name": "stdout",
     "output_type": "stream",
     "text": [
      "DataFrame after Exploding Lists:\n",
      "    ID   Hobbies\n",
      "0   1   Reading\n",
      "0   1  Swimming\n",
      "1   2   Running\n",
      "1   2   Cycling\n"
     ]
    }
   ],
   "source": [
    "# Example 19: Pandas - Using Explode for Lists in Columns\n",
    "import pandas as pd\n",
    "\n",
    "# Creating a DataFrame with lists in a column\n",
    "data = {'ID': [1, 2], 'Hobbies': [['Reading', 'Swimming'], ['Running', 'Cycling']]}\n",
    "df = pd.DataFrame(data)\n",
    "\n",
    "# Exploding the 'Hobbies' column\n",
    "exploded_df = df.explode('Hobbies')\n",
    "\n",
    "print('DataFrame after Exploding Lists:\\n', exploded_df)\n"
   ]
  },
  {
   "cell_type": "code",
   "execution_count": 11,
   "id": "78137f31",
   "metadata": {},
   "outputs": [
    {
     "data": {
      "text/html": [
       "<div>\n",
       "<style scoped>\n",
       "    .dataframe tbody tr th:only-of-type {\n",
       "        vertical-align: middle;\n",
       "    }\n",
       "\n",
       "    .dataframe tbody tr th {\n",
       "        vertical-align: top;\n",
       "    }\n",
       "\n",
       "    .dataframe thead th {\n",
       "        text-align: right;\n",
       "    }\n",
       "</style>\n",
       "<table border=\"1\" class=\"dataframe\">\n",
       "  <thead>\n",
       "    <tr style=\"text-align: right;\">\n",
       "      <th></th>\n",
       "      <th>ID</th>\n",
       "      <th>Hobbies</th>\n",
       "    </tr>\n",
       "  </thead>\n",
       "  <tbody>\n",
       "    <tr>\n",
       "      <th>0</th>\n",
       "      <td>1</td>\n",
       "      <td>[Reading, Swimming]</td>\n",
       "    </tr>\n",
       "    <tr>\n",
       "      <th>1</th>\n",
       "      <td>2</td>\n",
       "      <td>[Running, Cycling]</td>\n",
       "    </tr>\n",
       "  </tbody>\n",
       "</table>\n",
       "</div>"
      ],
      "text/plain": [
       "   ID              Hobbies\n",
       "0   1  [Reading, Swimming]\n",
       "1   2   [Running, Cycling]"
      ]
     },
     "execution_count": 11,
     "metadata": {},
     "output_type": "execute_result"
    }
   ],
   "source": [
    "df"
   ]
  },
  {
   "cell_type": "code",
   "execution_count": 12,
   "id": "ec087996",
   "metadata": {},
   "outputs": [
    {
     "name": "stdout",
     "output_type": "stream",
     "text": [
      "DataFrame with Ranked Scores:\n",
      "       Name  Score  Rank\n",
      "0    Alice     85   3.0\n",
      "1      Bob     90   2.0\n",
      "2  Charlie     78   4.0\n",
      "3    David     92   1.0\n"
     ]
    }
   ],
   "source": [
    "# Example 20: Pandas - Using Rank to Rank Values\n",
    "import pandas as pd\n",
    "\n",
    "# Creating a DataFrame\n",
    "data = {'Name': ['Alice', 'Bob', 'Charlie', 'David'], 'Score': [85, 90, 78, 92]}\n",
    "df = pd.DataFrame(data)\n",
    "\n",
    "# Ranking scores in descending order\n",
    "df['Rank'] = df['Score'].rank(ascending=False)\n",
    "\n",
    "print('DataFrame with Ranked Scores:\\n', df)\n"
   ]
  },
  {
   "cell_type": "code",
   "execution_count": 13,
   "id": "5bd90c4a",
   "metadata": {},
   "outputs": [
    {
     "name": "stdout",
     "output_type": "stream",
     "text": [
      "DataFrame with Squared Values:\n",
      "    A   B\n",
      "0  1  16\n",
      "1  4  25\n",
      "2  9  36\n"
     ]
    },
    {
     "name": "stderr",
     "output_type": "stream",
     "text": [
      "C:\\Users\\user\\AppData\\Local\\Temp\\ipykernel_20672\\1519817700.py:9: FutureWarning: DataFrame.applymap has been deprecated. Use DataFrame.map instead.\n",
      "  df_transformed = df.applymap(lambda x: x**2)\n"
     ]
    }
   ],
   "source": [
    "# Example 21: Pandas - Using applymap for Element-wise Operations\n",
    "import pandas as pd\n",
    "\n",
    "# Creating a DataFrame\n",
    "data = {'A': [1, 2, 3], 'B': [4, 5, 6]}\n",
    "df = pd.DataFrame(data)\n",
    "\n",
    "# Applying an operation to each element in the DataFrame\n",
    "df_transformed = df.applymap(lambda x: x**2)\n",
    "\n",
    "print('DataFrame with Squared Values:\\n', df_transformed)\n"
   ]
  },
  {
   "cell_type": "code",
   "execution_count": 14,
   "id": "ba81b40d",
   "metadata": {},
   "outputs": [
    {
     "name": "stdout",
     "output_type": "stream",
     "text": [
      "Dummy Variables DataFrame:\n",
      "    City_LA  City_NY  City_SF\n",
      "0    False     True    False\n",
      "1     True    False    False\n",
      "2    False    False     True\n",
      "3    False     True    False\n"
     ]
    }
   ],
   "source": [
    "# Example 22: Pandas - Creating Dummy Variables\n",
    "import pandas as pd\n",
    "\n",
    "# Creating a DataFrame\n",
    "data = {'City': ['NY', 'LA', 'SF', 'NY']}\n",
    "df = pd.DataFrame(data)\n",
    "\n",
    "# Creating dummy variables\n",
    "dummies = pd.get_dummies(df['City'], prefix='City')\n",
    "\n",
    "print('Dummy Variables DataFrame:\\n', dummies)\n"
   ]
  },
  {
   "cell_type": "code",
   "execution_count": 15,
   "id": "89be460f",
   "metadata": {},
   "outputs": [
    {
     "name": "stdout",
     "output_type": "stream",
     "text": [
      "Filtered DataFrame using query:\n",
      "       Name  Score\n",
      "0    Alice     85\n",
      "2  Charlie     95\n"
     ]
    }
   ],
   "source": [
    "# Example 23: Pandas - Query Method for Conditional Filtering\n",
    "import pandas as pd\n",
    "\n",
    "# Creating a DataFrame\n",
    "data = {'Name': ['Alice', 'Bob', 'Charlie', 'David'], 'Score': [85, 70, 95, 60]}\n",
    "df = pd.DataFrame(data)\n",
    "\n",
    "# Using query for filtering\n",
    "filtered_df = df.query('Score > 80')\n",
    "\n",
    "print('Filtered DataFrame using query:\\n', filtered_df)\n"
   ]
  },
  {
   "cell_type": "code",
   "execution_count": 16,
   "id": "8e2ea4c9",
   "metadata": {},
   "outputs": [
    {
     "name": "stdout",
     "output_type": "stream",
     "text": [
      "DataFrame with Assigned Grade Column:\n",
      "       Name  Score Grade\n",
      "0    Alice     85     B\n",
      "1      Bob     90     A\n",
      "2  Charlie     95     A\n"
     ]
    }
   ],
   "source": [
    "\n",
    "# Example 24: Pandas - Assign Method for Adding Columns\n",
    "import pandas as pd\n",
    "\n",
    "# Creating a DataFrame\n",
    "data = {'Name': ['Alice', 'Bob', 'Charlie'], 'Score': [85, 90, 95]}\n",
    "df = pd.DataFrame(data)\n",
    "\n",
    "# Adding a new column using assign\n",
    "df = df.assign(Grade=lambda x: ['A' if score >= 90 else 'B' for score in x['Score']])\n",
    "\n",
    "print('DataFrame with Assigned Grade Column:\\n', df)\n"
   ]
  },
  {
   "cell_type": "code",
   "execution_count": null,
   "id": "76fe3e34",
   "metadata": {},
   "outputs": [],
   "source": [
    "# Example 24: Pandas - Assign Method for Adding Columns\n",
    "import pandas as pd\n",
    "\n",
    "# Creating a DataFrame\n",
    "data = {'Name': ['Alice', 'Bob', 'Charlie'], 'Score': [85, 90, 95]}\n",
    "df = pd.DataFrame(data)\n",
    "\n",
    "# Adding a new column using assign\n",
    "df = df.assign(Grade=lambda x: ['A' if score >= 90 else 'B' for score in x['Score']])\n",
    "\n",
    "print('DataFrame with Assigned Grade Column:\\n', df)\n"
   ]
  },
  {
   "cell_type": "code",
   "execution_count": 18,
   "id": "0be127f2",
   "metadata": {},
   "outputs": [
    {
     "name": "stdout",
     "output_type": "stream",
     "text": [
      "Custom Aggregation Result:\n",
      " Category\n",
      "A    10\n",
      "B    10\n",
      "Name: Value, dtype: int64\n"
     ]
    }
   ],
   "source": [
    "# Example 25: Pandas - Using Custom Functions with Groupby\n",
    "import pandas as pd\n",
    "\n",
    "# Creating a DataFrame\n",
    "data = {'Category': ['A', 'A', 'B', 'B'], 'Value': [10, 20, 30, 40]}\n",
    "df = pd.DataFrame(data)\n",
    "\n",
    "\n",
    "# Applying a custom function with groupby\n",
    "grouped_df = df.groupby('Category')['Value'].apply(lambda x: x.max() - x.min())\n",
    "\n",
    "print('Custom Aggregation Result:\\n', grouped_df)\n"
   ]
  },
  {
   "cell_type": "code",
   "execution_count": null,
   "id": "d5c9a26e",
   "metadata": {},
   "outputs": [],
   "source": [
    "\n",
    "# Example 25: Pandas - Using Custom Functions with Groupby\n",
    "import pandas as pd\n",
    "\n",
    "# Creating a DataFrame\n",
    "data = {'Category': ['A', 'A', 'B', 'B'], 'Value': [10, 20, 30, 40]}\n",
    "df = pd.DataFrame(data)\n",
    "\n",
    "# Applying a custom function with groupby\n",
    "grouped_df = df.groupby('Category')['Value'].apply(lambda x: x.max() - x.min())\n",
    "\n",
    "print('Custom Aggregation Result:\\n', grouped_df)\n"
   ]
  },
  {
   "cell_type": "code",
   "execution_count": 19,
   "id": "8488346d",
   "metadata": {},
   "outputs": [
    {
     "name": "stdout",
     "output_type": "stream",
     "text": [
      "<class 'pandas.core.frame.DataFrame'>\n",
      "RangeIndex: 1000 entries, 0 to 999\n",
      "Data columns (total 2 columns):\n",
      " #   Column  Non-Null Count  Dtype\n",
      "---  ------  --------------  -----\n",
      " 0   A       1000 non-null   int64\n",
      " 1   B       1000 non-null   int64\n",
      "dtypes: int64(2)\n",
      "memory usage: 15.8 KB\n",
      "DataFrame Info and Memory Usage: None\n"
     ]
    }
   ],
   "source": [
    "# Example 26: Pandas - DataFrame Info and Memory Usage\n",
    "import pandas as pd\n",
    "\n",
    "# Creating a DataFrame\n",
    "data = {'A': range(1000), 'B': range(1000, 2000)}\n",
    "df = pd.DataFrame(data)\n",
    "\n",
    "# Displaying DataFrame info and memory usage\n",
    "df_info = df.info(memory_usage='deep')\n",
    "\n",
    "print('DataFrame Info and Memory Usage:', df_info)\n"
   ]
  },
  {
   "cell_type": "code",
   "execution_count": null,
   "id": "44a3fb51",
   "metadata": {},
   "outputs": [],
   "source": [
    "# Example 26: Pandas - DataFrame Info and Memory Usage\n",
    "import pandas as pd\n",
    "\n",
    "# Creating a DataFrame\n",
    "data = {'A': range(1000), 'B': range(1000, 2000)}\n",
    "df = pd.DataFrame(data)\n",
    "\n",
    "# Displaying DataFrame info and memory usage\n",
    "df_info = df.info(memory_usage='deep')\n",
    "\n",
    "print('DataFrame Info and Memory Usage:', df_info)\n"
   ]
  },
  {
   "cell_type": "code",
   "execution_count": 20,
   "id": "ed55bebb",
   "metadata": {},
   "outputs": [
    {
     "name": "stdout",
     "output_type": "stream",
     "text": [
      "Filtered DataFrame with isin Method:\n",
      "       Name City\n",
      "0    Alice   NY\n",
      "2  Charlie   SF\n",
      "3    David   NY\n"
     ]
    }
   ],
   "source": [
    "\n",
    "# Example 27: Pandas - Filtering with isin Method\n",
    "import pandas as pd\n",
    "\n",
    "# Creating a DataFrame\n",
    "data = {'Name': ['Alice', 'Bob', 'Charlie', 'David'], 'City': ['NY', 'LA', 'SF', 'NY']}\n",
    "df = pd.DataFrame(data)\n",
    "\n",
    "# Filtering with isin\n",
    "filtered_df = df[df['City'].isin(['NY', 'SF'])]\n",
    "\n",
    "print('Filtered DataFrame with isin Method:\\n', filtered_df)\n"
   ]
  },
  {
   "cell_type": "code",
   "execution_count": null,
   "id": "a04910be",
   "metadata": {},
   "outputs": [],
   "source": [
    "\n",
    "# Example 27: Pandas - Filtering with isin Method\n",
    "import pandas as pd\n",
    "\n",
    "# Creating a DataFrame\n",
    "data = {'Name': ['Alice', 'Bob', 'Charlie', 'David'], 'City': ['NY', 'LA', 'SF', 'NY']}\n",
    "df = pd.DataFrame(data)\n",
    "\n",
    "# Filtering with isin\n",
    "filtered_df = df[df['City'].isin(['NY', 'SF'])]\n",
    "\n",
    "print('Filtered DataFrame with isin Method:\\n', filtered_df)\n"
   ]
  },
  {
   "cell_type": "code",
   "execution_count": 21,
   "id": "2e97da0b",
   "metadata": {},
   "outputs": [
    {
     "name": "stdout",
     "output_type": "stream",
     "text": [
      "Concatenated DataFrame:\n",
      "    A  B\n",
      "0  1  3\n",
      "1  2  4\n",
      "2  5  7\n",
      "3  6  8\n"
     ]
    }
   ],
   "source": [
    "# Example 28: Pandas - Concatenating DataFrames\n",
    "import pandas as pd\n",
    "\n",
    "# Creating DataFrames\n",
    "df1 = pd.DataFrame({'A': [1, 2], 'B': [3, 4]})\n",
    "df2 = pd.DataFrame({'A': [5, 6], 'B': [7, 8]})\n",
    "\n",
    "# Concatenating DataFrames\n",
    "concat_df = pd.concat([df1, df2], ignore_index=True)\n",
    "\n",
    "print('Concatenated DataFrame:\\n', concat_df)\n"
   ]
  },
  {
   "cell_type": "code",
   "execution_count": null,
   "id": "da9f7ea2",
   "metadata": {},
   "outputs": [],
   "source": [
    "# Example 28: Pandas - Concatenating DataFrames\n",
    "import pandas as pd\n",
    "\n",
    "# Creating DataFrames\n",
    "df1 = pd.DataFrame({'A': [1, 2], 'B': [3, 4]})\n",
    "df2 = pd.DataFrame({'A': [5, 6], 'B': [7, 8]})\n",
    "\n",
    "# Concatenating DataFrames\n",
    "concat_df = pd.concat([df1, df2], ignore_index=True)\n",
    "\n",
    "print('Concatenated DataFrame:\\n', concat_df)\n"
   ]
  },
  {
   "cell_type": "code",
   "execution_count": 22,
   "id": "8ef1875f",
   "metadata": {},
   "outputs": [
    {
     "name": "stdout",
     "output_type": "stream",
     "text": [
      "Sorted DataFrame by Multiple Columns:\n",
      "       Name  Score  Age\n",
      "2  Charlie     95   35\n",
      "3    David     85   22\n",
      "0    Alice     85   25\n",
      "1      Bob     70   30\n"
     ]
    }
   ],
   "source": [
    "# Example 29: Pandas - Sorting by Multiple Columns\n",
    "import pandas as pd\n",
    "\n",
    "# Creating a DataFrame\n",
    "data = {'Name': ['Alice', 'Bob', 'Charlie', 'David'], 'Score': [85, 70, 95, 85], 'Age': [25, 30, 35, 22]}\n",
    "df = pd.DataFrame(data)\n",
    "\n",
    "# Sorting by multiple columns\n",
    "sorted_df = df.sort_values(by=['Score', 'Age'], ascending=[False, True])\n",
    "\n",
    "print('Sorted DataFrame by Multiple Columns:\\n', sorted_df)\n"
   ]
  },
  {
   "cell_type": "code",
   "execution_count": null,
   "id": "7a3bb290",
   "metadata": {},
   "outputs": [],
   "source": [
    "# Example 29: Pandas - Sorting by Multiple Columns\n",
    "import pandas as pd\n",
    "\n",
    "# Creating a DataFrame\n",
    "data = {'Name': ['Alice', 'Bob', 'Charlie', 'David'], 'Score': [85, 70, 95, 85], 'Age': [25, 30, 35, 22]}\n",
    "df = pd.DataFrame(data)\n",
    "\n",
    "# Sorting by multiple columns\n",
    "sorted_df = df.sort_values(by=['Score', 'Age'], ascending=[False, True])\n",
    "\n",
    "print('Sorted DataFrame by Multiple Columns:\\n', sorted_df)\n"
   ]
  },
  {
   "cell_type": "code",
   "execution_count": 23,
   "id": "d82b8a59",
   "metadata": {},
   "outputs": [
    {
     "name": "stdout",
     "output_type": "stream",
     "text": [
      "Styled DataFrame with Conditional Formatting\n"
     ]
    },
    {
     "name": "stderr",
     "output_type": "stream",
     "text": [
      "C:\\Users\\user\\AppData\\Local\\Temp\\ipykernel_20672\\4285358908.py:9: FutureWarning: Styler.applymap has been deprecated. Use Styler.map instead.\n",
      "  styled_df = df.style.applymap(lambda x: 'background-color: yellow' if isinstance(x, int) and x > 80 else '')\n"
     ]
    }
   ],
   "source": [
    "# Example 30: Pandas - Using style for DataFrame Styling\n",
    "import pandas as pd\n",
    "\n",
    "# Creating a DataFrame\n",
    "data = {'Name': ['Alice', 'Bob', 'Charlie', 'David'], 'Score': [85, 70, 95, 60]}\n",
    "df = pd.DataFrame(data)\n",
    "\n",
    "# Applying styles to highlight scores above 80\n",
    "styled_df = df.style.applymap(lambda x: 'background-color: yellow' if isinstance(x, int) and x > 80 else '')\n",
    "\n",
    "# Display the styled DataFrame (use .render() if exporting to HTML)\n",
    "print('Styled DataFrame with Conditional Formatting')\n"
   ]
  },
  {
   "cell_type": "code",
   "execution_count": 1,
   "id": "1d7f8412",
   "metadata": {},
   "outputs": [
    {
     "name": "stdout",
     "output_type": "stream",
     "text": [
      "DataFrame after Exploding Nested JSON Column:\n",
      "    ID   Hobbies\n",
      "0   1   Reading\n",
      "0   1  Swimming\n",
      "0   1    Gaming\n",
      "1   2    Hiking\n",
      "1   2   Drawing\n"
     ]
    }
   ],
   "source": [
    "# Example 31: Pandas - Using explode() for Nested JSON Columns\n",
    "import pandas as pd\n",
    "\n",
    "# Creating a DataFrame with nested lists\n",
    "data = {'ID': [1, 2], 'Hobbies': [['Reading', 'Swimming', 'Gaming'], ['Hiking', 'Drawing']]}\n",
    "df = pd.DataFrame(data)\n",
    "\n",
    "# Exploding the 'Hobbies' column\n",
    "exploded_df = df.explode('Hobbies')\n",
    "\n",
    "print('DataFrame after Exploding Nested JSON Column:\\n', exploded_df)\n"
   ]
  },
  {
   "cell_type": "code",
   "execution_count": 2,
   "id": "e9d21233",
   "metadata": {},
   "outputs": [
    {
     "name": "stdout",
     "output_type": "stream",
     "text": [
      "DataFrame after Using pipe():\n",
      "       Name  Score Grade\n",
      "0    Alice     85     B\n",
      "1      Bob     70     B\n",
      "2  Charlie     95     A\n"
     ]
    }
   ],
   "source": [
    "# Example 32: Pandas - Using pipe() for Method Chaining\n",
    "import pandas as pd\n",
    "\n",
    "# Creating a DataFrame\n",
    "data = {'Name': ['Alice', 'Bob', 'Charlie'], 'Score': [85, 70, 95]}\n",
    "df = pd.DataFrame(data)\n",
    "\n",
    "# Custom function for modifying the DataFrame\n",
    "def add_grade_column(df):\n",
    "    df['Grade'] = df['Score'].apply(lambda x: 'A' if x >= 90 else 'B')\n",
    "    return df\n",
    "\n",
    "# Using pipe for method chaining\n",
    "df = df.pipe(add_grade_column)\n",
    "\n",
    "print('DataFrame after Using pipe():\\n', df)\n"
   ]
  },
  {
   "cell_type": "code",
   "execution_count": 3,
   "id": "2258b289",
   "metadata": {},
   "outputs": [
    {
     "name": "stdout",
     "output_type": "stream",
     "text": [
      "Sliced MultiIndex DataFrame:\n",
      "       Sales\n",
      "Year       \n",
      "2020    100\n",
      "2021    150\n"
     ]
    }
   ],
   "source": [
    "# Example 33: Pandas - MultiIndex Slicing\n",
    "import pandas as pd\n",
    "\n",
    "# Creating a MultiIndex DataFrame\n",
    "arrays = [['A', 'A', 'B', 'B'], [2020, 2021, 2020, 2021]]\n",
    "index = pd.MultiIndex.from_arrays(arrays, names=('Category', 'Year'))\n",
    "data = [100, 150, 200, 250]\n",
    "df = pd.DataFrame(data, index=index, columns=['Sales'])\n",
    "\n",
    "# Slicing the MultiIndex DataFrame\n",
    "sliced_df = df.loc['A']\n",
    "\n",
    "print('Sliced MultiIndex DataFrame:\\n', sliced_df)\n"
   ]
  },
  {
   "cell_type": "code",
   "execution_count": 4,
   "id": "295c6bb0",
   "metadata": {},
   "outputs": [
    {
     "data": {
      "text/html": [
       "<div>\n",
       "<style scoped>\n",
       "    .dataframe tbody tr th:only-of-type {\n",
       "        vertical-align: middle;\n",
       "    }\n",
       "\n",
       "    .dataframe tbody tr th {\n",
       "        vertical-align: top;\n",
       "    }\n",
       "\n",
       "    .dataframe thead th {\n",
       "        text-align: right;\n",
       "    }\n",
       "</style>\n",
       "<table border=\"1\" class=\"dataframe\">\n",
       "  <thead>\n",
       "    <tr style=\"text-align: right;\">\n",
       "      <th></th>\n",
       "      <th></th>\n",
       "      <th>Sales</th>\n",
       "    </tr>\n",
       "    <tr>\n",
       "      <th>Category</th>\n",
       "      <th>Year</th>\n",
       "      <th></th>\n",
       "    </tr>\n",
       "  </thead>\n",
       "  <tbody>\n",
       "    <tr>\n",
       "      <th rowspan=\"2\" valign=\"top\">A</th>\n",
       "      <th>2020</th>\n",
       "      <td>100</td>\n",
       "    </tr>\n",
       "    <tr>\n",
       "      <th>2021</th>\n",
       "      <td>150</td>\n",
       "    </tr>\n",
       "    <tr>\n",
       "      <th rowspan=\"2\" valign=\"top\">B</th>\n",
       "      <th>2020</th>\n",
       "      <td>200</td>\n",
       "    </tr>\n",
       "    <tr>\n",
       "      <th>2021</th>\n",
       "      <td>250</td>\n",
       "    </tr>\n",
       "  </tbody>\n",
       "</table>\n",
       "</div>"
      ],
      "text/plain": [
       "               Sales\n",
       "Category Year       \n",
       "A        2020    100\n",
       "         2021    150\n",
       "B        2020    200\n",
       "         2021    250"
      ]
     },
     "execution_count": 4,
     "metadata": {},
     "output_type": "execute_result"
    }
   ],
   "source": [
    "df"
   ]
  },
  {
   "cell_type": "code",
   "execution_count": 5,
   "id": "c22639be",
   "metadata": {},
   "outputs": [
    {
     "name": "stdout",
     "output_type": "stream",
     "text": [
      "DataFrame with Prefix:\n",
      "    Grade_Math  Grade_Science\n",
      "0          90             85\n",
      "1          80             88\n",
      "DataFrame with Suffix:\n",
      "    Math_Score  Science_Score\n",
      "0          90             85\n",
      "1          80             88\n"
     ]
    }
   ],
   "source": [
    "# Example 34: Pandas - Adding a Prefix or Suffix to Column Names\n",
    "import pandas as pd\n",
    "\n",
    "# Creating a DataFrame\n",
    "data = {'Math': [90, 80], 'Science': [85, 88]}\n",
    "df = pd.DataFrame(data)\n",
    "\n",
    "# Adding a prefix to column names\n",
    "df_prefixed = df.add_prefix('Grade_')\n",
    "\n",
    "# Adding a suffix to column names\n",
    "df_suffixed = df.add_suffix('_Score')\n",
    "\n",
    "print('DataFrame with Prefix:\\n', df_prefixed)\n",
    "print('DataFrame with Suffix:\\n', df_suffixed)\n"
   ]
  },
  {
   "cell_type": "code",
   "execution_count": 6,
   "id": "6b5ebfcd",
   "metadata": {},
   "outputs": [
    {
     "name": "stdout",
     "output_type": "stream",
     "text": [
      "Value using at: 2\n",
      "Value using iat: 2\n"
     ]
    }
   ],
   "source": [
    "\n",
    "# Example 35: Pandas - Using at and iat for Fast Scalar Access\n",
    "import pandas as pd\n",
    "\n",
    "# Creating a DataFrame\n",
    "data = {'A': [1, 2, 3], 'B': [4, 5, 6]}\n",
    "df = pd.DataFrame(data)\n",
    "\n",
    "# Accessing a single value using at and iat\n",
    "value_at = df.at[1, 'A']\n",
    "value_iat = df.iat[1, 0]\n",
    "\n",
    "print('Value using at:', value_at)\n",
    "print('Value using iat:', value_iat)\n"
   ]
  },
  {
   "cell_type": "code",
   "execution_count": null,
   "id": "f68d19a7",
   "metadata": {},
   "outputs": [],
   "source": []
  },
  {
   "cell_type": "code",
   "execution_count": 7,
   "id": "eea3bb00",
   "metadata": {},
   "outputs": [
    {
     "name": "stdout",
     "output_type": "stream",
     "text": [
      "Renamed DataFrame:\n",
      "            Name  Grade\n",
      "Student1  Alice     85\n",
      "Student2    Bob     90\n"
     ]
    }
   ],
   "source": [
    "\n",
    "# Example 36: Pandas - Renaming Index and Columns\n",
    "import pandas as pd\n",
    "\n",
    "# Creating a DataFrame\n",
    "data = {'Name': ['Alice', 'Bob'], 'Score': [85, 90]}\n",
    "df = pd.DataFrame(data, index=['Row1', 'Row2'])\n",
    "\n",
    "# Renaming index and columns\n",
    "df_renamed = df.rename(index={'Row1': 'Student1', 'Row2': 'Student2'}, columns={'Score': 'Grade'})\n",
    "\n",
    "print('Renamed DataFrame:\\n', df_renamed)\n"
   ]
  },
  {
   "cell_type": "code",
   "execution_count": 8,
   "id": "d2f446aa",
   "metadata": {},
   "outputs": [
    {
     "name": "stdout",
     "output_type": "stream",
     "text": [
      "Filtered DataFrame with query() and Variables:\n",
      "       Name  Score\n",
      "0    Alice     85\n",
      "2  Charlie     95\n"
     ]
    }
   ],
   "source": [
    "# Example 37: Pandas - Using query() with Variables\n",
    "import pandas as pd\n",
    "\n",
    "# Creating a DataFrame\n",
    "data = {'Name': ['Alice', 'Bob', 'Charlie'], 'Score': [85, 70, 95]}\n",
    "df = pd.DataFrame(data)\n",
    "\n",
    "# Using query() with variables\n",
    "threshold = 80\n",
    "filtered_df = df.query('Score > @threshold')\n",
    "\n",
    "print('Filtered DataFrame with query() and Variables:\\n', filtered_df)\n"
   ]
  },
  {
   "cell_type": "code",
   "execution_count": 9,
   "id": "bda3db76",
   "metadata": {},
   "outputs": [
    {
     "name": "stdout",
     "output_type": "stream",
     "text": [
      "Custom Aggregation Result:\n",
      "           max_value  min_value\n",
      "Category                      \n",
      "A                20         10\n",
      "B                40         30\n"
     ]
    }
   ],
   "source": [
    "# Example 38: Pandas - Creating Custom Aggregations with Groupby\n",
    "import pandas as pd\n",
    "\n",
    "# Creating a DataFrame\n",
    "data = {'Category': ['A', 'A', 'B', 'B'], 'Value': [10, 20, 30, 40]}\n",
    "df = pd.DataFrame(data)\n",
    "\n",
    "# Using groupby with custom aggregation\n",
    "custom_agg = df.groupby('Category').agg(max_value=('Value', 'max'), min_value=('Value', 'min'))\n",
    "\n",
    "print('Custom Aggregation Result:\\n', custom_agg)\n"
   ]
  },
  {
   "cell_type": "code",
   "execution_count": 10,
   "id": "ec01a4fe",
   "metadata": {},
   "outputs": [
    {
     "name": "stdout",
     "output_type": "stream",
     "text": [
      "Pivoted DataFrame with fill_value:\n",
      " City           LA     NY\n",
      "Date                    \n",
      "2023-01-01  300.0  200.0\n",
      "2023-01-02    0.0  250.0\n"
     ]
    }
   ],
   "source": [
    "# Example 39: Pandas - Pivoting with fill_value\n",
    "import pandas as pd\n",
    "\n",
    "# Creating a DataFrame\n",
    "data = {'Date': ['2023-01-01', '2023-01-02', '2023-01-01', '2023-01-02'],\n",
    "        'City': ['NY', 'NY', 'LA', 'LA'], 'Sales': [200, 250, 300, None]}\n",
    "df = pd.DataFrame(data)\n",
    "\n",
    "# Pivoting with fill_value\n",
    "pivot_df = df.pivot(index='Date', columns='City', values='Sales').fillna(0)\n",
    "\n",
    "print('Pivoted DataFrame with fill_value:\\n', pivot_df)\n"
   ]
  },
  {
   "cell_type": "code",
   "execution_count": 11,
   "id": "3a1964c5",
   "metadata": {},
   "outputs": [
    {
     "name": "stdout",
     "output_type": "stream",
     "text": [
      "DataFrame after Dropping Duplicates:\n",
      "       Name  Score\n",
      "0    Alice     85\n",
      "1      Bob     70\n",
      "3  Charlie     95\n"
     ]
    }
   ],
   "source": [
    "# Example 40: Pandas - Using drop_duplicates() for Unique Rows\n",
    "import pandas as pd\n",
    "\n",
    "# Creating a DataFrame with duplicate rows\n",
    "data = {'Name': ['Alice', 'Bob', 'Alice', 'Charlie'], 'Score': [85, 70, 85, 95]}\n",
    "df = pd.DataFrame(data)\n",
    "\n",
    "# Dropping duplicate rows\n",
    "unique_df = df.drop_duplicates()\n",
    "\n",
    "print('DataFrame after Dropping Duplicates:\\n', unique_df)\n"
   ]
  },
  {
   "cell_type": "code",
   "execution_count": 12,
   "id": "c1f30f03",
   "metadata": {},
   "outputs": [
    {
     "name": "stdout",
     "output_type": "stream",
     "text": [
      "Combined DataFrame with Multi-level Indexes:\n",
      "                Sales  Profit\n",
      "Category Year               \n",
      "A        2020    100     300\n",
      "         2021    150     400\n",
      "B        2020    200     500\n",
      "         2021    250     600\n"
     ]
    }
   ],
   "source": [
    "# Example 41: Pandas - Combining DataFrames with Multi-level Indexes\n",
    "import pandas as pd\n",
    "\n",
    "# Creating DataFrames with MultiIndex\n",
    "arrays = [['A', 'A', 'B', 'B'], [2020, 2021, 2020, 2021]]\n",
    "index = pd.MultiIndex.from_arrays(arrays, names=('Category', 'Year'))\n",
    "data1 = [100, 150, 200, 250]\n",
    "df1 = pd.DataFrame(data1, index=index, columns=['Sales'])\n",
    "\n",
    "data2 = [300, 400, 500, 600]\n",
    "df2 = pd.DataFrame(data2, index=index, columns=['Profit'])\n",
    "\n",
    "# Combining DataFrames\n",
    "combined_df = pd.concat([df1, df2], axis=1)\n",
    "\n",
    "print('Combined DataFrame with Multi-level Indexes:\\n', combined_df)\n"
   ]
  },
  {
   "cell_type": "code",
   "execution_count": 13,
   "id": "1d61ece0",
   "metadata": {},
   "outputs": [
    {
     "name": "stdout",
     "output_type": "stream",
     "text": [
      "DataFrame with Custom Rolling Sum:\n",
      "             Values  Rolling Sum\n",
      "2023-01-01      10          NaN\n",
      "2023-01-02      20          NaN\n",
      "2023-01-03      30         60.0\n",
      "2023-01-04      40         90.0\n",
      "2023-01-05      50        120.0\n",
      "2023-01-06      60        150.0\n",
      "2023-01-07      70        180.0\n",
      "2023-01-08      80        210.0\n",
      "2023-01-09      90        240.0\n",
      "2023-01-10     100        270.0\n"
     ]
    }
   ],
   "source": [
    "# Example 42: Pandas - Using rolling() with Custom Functions\n",
    "import pandas as pd\n",
    "\n",
    "# Creating a time series DataFrame\n",
    "date_range = pd.date_range(start='2023-01-01', periods=10, freq='D')\n",
    "data = {'Values': [10, 20, 30, 40, 50, 60, 70, 80, 90, 100]}\n",
    "df = pd.DataFrame(data, index=date_range)\n",
    "\n",
    "# Applying a custom function with rolling()\n",
    "df['Rolling Sum'] = df['Values'].rolling(window=3).apply(lambda x: x.sum() if x.sum() > 50 else 0)\n",
    "\n",
    "print('DataFrame with Custom Rolling Sum:\\n', df)\n"
   ]
  },
  {
   "cell_type": "code",
   "execution_count": 14,
   "id": "3061354e",
   "metadata": {},
   "outputs": [
    {
     "name": "stdout",
     "output_type": "stream",
     "text": [
      "Pivot Table with Multiple Indexes:\n",
      "            Sales\n",
      "City Year       \n",
      "LA   2020    450\n",
      "NY   2020    100\n",
      "     2021    200\n",
      "SF   2021    250\n"
     ]
    }
   ],
   "source": [
    "# Example 43: Pandas - Using pivot_table with Multiple Indexes\n",
    "import pandas as pd\n",
    "\n",
    "# Creating a DataFrame\n",
    "data = {'City': ['NY', 'LA', 'NY', 'SF', 'LA'], 'Year': [2020, 2020, 2021, 2021, 2020], 'Sales': [100, 150, 200, 250, 300]}\n",
    "df = pd.DataFrame(data)\n",
    "\n",
    "# Creating a pivot table with multiple indexes\n",
    "pivot_table = pd.pivot_table(df, values='Sales', index=['City', 'Year'], aggfunc='sum')\n",
    "\n",
    "print('Pivot Table with Multiple Indexes:\\n', pivot_table)\n"
   ]
  },
  {
   "cell_type": "code",
   "execution_count": 15,
   "id": "597020bc",
   "metadata": {},
   "outputs": [
    {
     "name": "stdout",
     "output_type": "stream",
     "text": [
      "Resampled DataFrame with Different Aggregations:\n",
      "            Sales          \n",
      "             sum  mean max\n",
      "2023-01-01     0   0.0   0\n",
      "2023-01-08    28   4.0   7\n",
      "2023-01-15    77  11.0  14\n",
      "2023-01-22   126  18.0  21\n",
      "2023-01-29   175  25.0  28\n",
      "2023-02-05    29  29.0  29\n"
     ]
    }
   ],
   "source": [
    "# Example 44: Pandas - Resampling with Different Aggregations\n",
    "import pandas as pd\n",
    "\n",
    "# Creating a time series DataFrame\n",
    "date_range = pd.date_range(start='2023-01-01', periods=30, freq='D')\n",
    "data = {'Sales': range(30)}\n",
    "df = pd.DataFrame(data, index=date_range)\n",
    "\n",
    "# Resampling with different aggregations\n",
    "resampled_df = df.resample('W').agg({'Sales': ['sum', 'mean', 'max']})\n",
    "\n",
    "print('Resampled DataFrame with Different Aggregations:\\n', resampled_df)\n"
   ]
  },
  {
   "cell_type": "code",
   "execution_count": 16,
   "id": "93c40dab",
   "metadata": {},
   "outputs": [
    {
     "name": "stdout",
     "output_type": "stream",
     "text": [
      "DataFrame after Setting Index:\n",
      "       Year  Sales\n",
      "City             \n",
      "NY    2020    100\n",
      "LA    2021    200\n",
      "SF    2021    300\n",
      "DataFrame after Resetting Index:\n",
      "   City  Year  Sales\n",
      "0   NY  2020    100\n",
      "1   LA  2021    200\n",
      "2   SF  2021    300\n"
     ]
    }
   ],
   "source": [
    "\n",
    "# Example 45: Pandas - Setting and Resetting Indexes\n",
    "import pandas as pd\n",
    "\n",
    "# Creating a DataFrame\n",
    "data = {'City': ['NY', 'LA', 'SF'], 'Year': [2020, 2021, 2021], 'Sales': [100, 200, 300]}\n",
    "df = pd.DataFrame(data)\n",
    "\n",
    "# Setting an index\n",
    "df.set_index('City', inplace=True)\n",
    "\n",
    "print('DataFrame after Setting Index:\\n', df)\n",
    "\n",
    "# Resetting the index\n",
    "df.reset_index(inplace=True)\n",
    "\n",
    "print('DataFrame after Resetting Index:\\n', df)\n"
   ]
  },
  {
   "cell_type": "code",
   "execution_count": 17,
   "id": "5ab6a790",
   "metadata": {},
   "outputs": [
    {
     "name": "stdout",
     "output_type": "stream",
     "text": [
      "Time Series DataFrame with Time Zones:\n",
      "                            Sales\n",
      "2022-12-31 19:00:00-05:00    100\n",
      "2023-01-01 19:00:00-05:00    200\n",
      "2023-01-02 19:00:00-05:00    150\n",
      "2023-01-03 19:00:00-05:00    300\n",
      "2023-01-04 19:00:00-05:00    250\n"
     ]
    }
   ],
   "source": [
    "# Example 46: Pandas - Working with Time Zones\n",
    "import pandas as pd\n",
    "\n",
    "# Creating a time series with a timezone\n",
    "date_range = pd.date_range(start='2023-01-01', periods=5, freq='D', tz='UTC')\n",
    "data = {'Sales': [100, 200, 150, 300, 250]}\n",
    "df = pd.DataFrame(data, index=date_range)\n",
    "\n",
    "# Converting to a different timezone\n",
    "df = df.tz_convert('US/Eastern')\n",
    "\n",
    "print('Time Series DataFrame with Time Zones:\\n', df)\n"
   ]
  },
  {
   "cell_type": "code",
   "execution_count": 18,
   "id": "a64f4a70",
   "metadata": {},
   "outputs": [
    {
     "name": "stdout",
     "output_type": "stream",
     "text": [
      "DataFrame with Binned Scores:\n",
      "    Scores Grade\n",
      "0      50     F\n",
      "1      60     D\n",
      "2      70     C\n",
      "3      80     B\n",
      "4      90     A\n",
      "5     100     A\n"
     ]
    }
   ],
   "source": [
    "# Example 47: Pandas - Using pd.cut for Binning Data\n",
    "import pandas as pd\n",
    "\n",
    "# Creating a DataFrame\n",
    "data = {'Scores': [50, 60, 70, 80, 90, 100]}\n",
    "df = pd.DataFrame(data)\n",
    "\n",
    "# Binning the scores into categories\n",
    "df['Grade'] = pd.cut(df['Scores'], bins=[0, 59, 69, 79, 89, 100], labels=['F', 'D', 'C', 'B', 'A'])\n",
    "\n",
    "print('DataFrame with Binned Scores:\\n', df)\n"
   ]
  },
  {
   "cell_type": "code",
   "execution_count": 19,
   "id": "3a70d49e",
   "metadata": {},
   "outputs": [
    {
     "name": "stdout",
     "output_type": "stream",
     "text": [
      "DataFrame after Replacing Outliers:\n",
      "    Values\n",
      "0      10\n",
      "1      12\n",
      "2      14\n",
      "3      13\n",
      "4      15\n",
      "5      13\n",
      "6      12\n"
     ]
    }
   ],
   "source": [
    "# Example 48: Pandas - Detecting and Replacing Outliers\n",
    "import pandas as pd\n",
    "import numpy as np\n",
    "\n",
    "# Creating a DataFrame\n",
    "data = {'Values': [10, 12, 14, 100, 15, 13, 12]}\n",
    "df = pd.DataFrame(data)\n",
    "\n",
    "# Detecting outliers using the IQR method\n",
    "Q1 = df['Values'].quantile(0.25)\n",
    "Q3 = df['Values'].quantile(0.75)\n",
    "IQR = Q3 - Q1\n",
    "outliers = (df['Values'] < (Q1 - 1.5 * IQR)) | (df['Values'] > (Q3 + 1.5 * IQR))\n",
    "\n",
    "# Replacing outliers with the median\n",
    "df.loc[outliers, 'Values'] = df['Values'].median()\n",
    "\n",
    "print('DataFrame after Replacing Outliers:\\n', df)\n"
   ]
  },
  {
   "cell_type": "code",
   "execution_count": 20,
   "id": "1d154aa2",
   "metadata": {},
   "outputs": [
    {
     "name": "stdout",
     "output_type": "stream",
     "text": [
      "DataFrame with Evaluated Calculations:\n",
      "    A  B   C\n",
      "0  1  5  11\n",
      "1  2  6  14\n",
      "2  3  7  17\n",
      "3  4  8  20\n"
     ]
    }
   ],
   "source": [
    "# Example 49: Pandas - Using DataFrame.eval for Efficient Calculations\n",
    "import pandas as pd\n",
    "\n",
    "# Creating a DataFrame\n",
    "data = {'A': [1, 2, 3, 4], 'B': [5, 6, 7, 8]}\n",
    "df = pd.DataFrame(data)\n",
    "\n",
    "# Using eval for calculations\n",
    "df['C'] = df.eval('A + B * 2')\n",
    "\n",
    "print('DataFrame with Evaluated Calculations:\\n', df)\n"
   ]
  },
  {
   "cell_type": "code",
   "execution_count": 21,
   "id": "9450338d",
   "metadata": {},
   "outputs": [
    {
     "name": "stdout",
     "output_type": "stream",
     "text": [
      "DataFrame with Applied Functions to Grouped Data:\n",
      "   Team  Points\n",
      "0    A      10\n",
      "1    A      15\n",
      "2    B      20\n",
      "3    B      25\n",
      "4    C      30\n"
     ]
    }
   ],
   "source": [
    "# Example 50: Pandas - Applying Functions to Grouped Data\n",
    "import pandas as pd\n",
    "\n",
    "# Creating a DataFrame\n",
    "data = {'Team': ['A', 'A', 'B', 'B', 'C'], 'Points': [10, 15, 20, 25, 30]}\n",
    "df = pd.DataFrame(data)\n",
    "\n",
    "# Applying a function to grouped data\n",
    "grouped_df = df.groupby('Team')['Points'].transform(lambda x: x / x.max())\n",
    "\n",
    "print('DataFrame with Applied Functions to Grouped Data:\\n', df)\n"
   ]
  },
  {
   "cell_type": "code",
   "execution_count": 22,
   "id": "5136de2e",
   "metadata": {},
   "outputs": [
    {
     "data": {
      "text/plain": [
       "0    0.666667\n",
       "1    1.000000\n",
       "2    0.800000\n",
       "3    1.000000\n",
       "4    1.000000\n",
       "Name: Points, dtype: float64"
      ]
     },
     "execution_count": 22,
     "metadata": {},
     "output_type": "execute_result"
    }
   ],
   "source": [
    "grouped_df"
   ]
  },
  {
   "cell_type": "code",
   "execution_count": 23,
   "id": "5e0d2047",
   "metadata": {},
   "outputs": [
    {
     "name": "stdout",
     "output_type": "stream",
     "text": [
      "Row-wise Sum:\n",
      " 0    5\n",
      "1    7\n",
      "2    9\n",
      "dtype: int64\n",
      "Column-wise Sum:\n",
      " A     6\n",
      "B    15\n",
      "dtype: int64\n"
     ]
    }
   ],
   "source": [
    "# Example 51: Pandas - Using df.apply with Axis Parameter\n",
    "import pandas as pd\n",
    "\n",
    "# Creating a DataFrame\n",
    "data = {'A': [1, 2, 3], 'B': [4, 5, 6]}\n",
    "df = pd.DataFrame(data)\n",
    "\n",
    "# Applying a function to rows and columns using the axis parameter\n",
    "row_sum = df.apply(lambda x: x.sum(), axis=1)\n",
    "col_sum = df.apply(lambda x: x.sum(), axis=0)\n",
    "\n",
    "print('Row-wise Sum:\\n', row_sum)\n",
    "print('Column-wise Sum:\\n', col_sum)\n"
   ]
  },
  {
   "cell_type": "code",
   "execution_count": 24,
   "id": "fa421855",
   "metadata": {},
   "outputs": [
    {
     "name": "stdout",
     "output_type": "stream",
     "text": [
      "Merged DataFrame with Indicator:\n",
      "    ID   Name_x   Name_y      _merge\n",
      "0   1    Alice      NaN   left_only\n",
      "1   2      Bob      NaN   left_only\n",
      "2   3  Charlie  Charlie        both\n",
      "3   4      NaN    David  right_only\n",
      "4   5      NaN   Edward  right_only\n"
     ]
    }
   ],
   "source": [
    "# Example 52: Pandas - Merging with Indicator for Tracking Source\n",
    "import pandas as pd\n",
    "\n",
    "# Creating two DataFrames\n",
    "df1 = pd.DataFrame({'ID': [1, 2, 3], 'Name': ['Alice', 'Bob', 'Charlie']})\n",
    "df2 = pd.DataFrame({'ID': [3, 4, 5], 'Name': ['Charlie', 'David', 'Edward']})\n",
    "\n",
    "# Merging with indicator to track the source\n",
    "merged_df = pd.merge(df1, df2, on='ID', how='outer', indicator=True)\n",
    "\n",
    "print('Merged DataFrame with Indicator:\\n', merged_df)\n"
   ]
  },
  {
   "cell_type": "code",
   "execution_count": 25,
   "id": "165e9beb",
   "metadata": {},
   "outputs": [
    {
     "name": "stdout",
     "output_type": "stream",
     "text": [
      "Time Series DataFrame with Business Days:\n",
      "             Sales\n",
      "2023-01-02      0\n",
      "2023-01-03      1\n",
      "2023-01-04      2\n",
      "2023-01-05      3\n",
      "2023-01-06      4\n",
      "2023-01-09      5\n",
      "2023-01-10      6\n",
      "2023-01-11      7\n",
      "2023-01-12      8\n",
      "2023-01-13      9\n"
     ]
    }
   ],
   "source": [
    "\n",
    "# Example 53: Pandas - Creating Time Series with Business Days\n",
    "import pandas as pd\n",
    "\n",
    "# Creating a time series with business days only\n",
    "date_range = pd.date_range(start='2023-01-01', periods=10, freq='B')\n",
    "data = {'Sales': range(10)}\n",
    "df = pd.DataFrame(data, index=date_range)\n",
    "\n",
    "print('Time Series DataFrame with Business Days:\\n', df)\n"
   ]
  },
  {
   "cell_type": "code",
   "execution_count": 26,
   "id": "9c796d59",
   "metadata": {},
   "outputs": [
    {
     "name": "stdout",
     "output_type": "stream",
     "text": [
      "Grouped DataFrame with Multiple Functions:\n",
      "           mean  sum  max\n",
      "Category                \n",
      "A         15.0   30   20\n",
      "B         35.0   70   40\n"
     ]
    }
   ],
   "source": [
    "# Example 54: Pandas - Applying Multiple Functions with Groupby\n",
    "import pandas as pd\n",
    "\n",
    "# Creating a DataFrame\n",
    "data = {'Category': ['A', 'A', 'B', 'B'], 'Value': [10, 20, 30, 40]}\n",
    "df = pd.DataFrame(data)\n",
    "\n",
    "# Applying multiple functions with groupby\n",
    "grouped_df = df.groupby('Category')['Value'].agg(['mean', 'sum', 'max'])\n",
    "\n",
    "print('Grouped DataFrame with Multiple Functions:\\n', grouped_df)\n"
   ]
  },
  {
   "cell_type": "code",
   "execution_count": 27,
   "id": "31fa7fd6",
   "metadata": {},
   "outputs": [
    {
     "name": "stdout",
     "output_type": "stream",
     "text": [
      "Pivoted DataFrame with MultiIndex Columns:\n",
      " City           NY            LA       \n",
      "Type       Online  Store Online  Store\n",
      "Date                                  \n",
      "2023-01-01  200.0    NaN  300.0    NaN\n",
      "2023-01-02    NaN  250.0    NaN  350.0\n"
     ]
    }
   ],
   "source": [
    "# Example 55: Pandas - Using df.pivot with MultiIndex Columns\n",
    "import pandas as pd\n",
    "\n",
    "# Creating a DataFrame\n",
    "data = {'Date': ['2023-01-01', '2023-01-02', '2023-01-01', '2023-01-02'],\n",
    "        'City': ['NY', 'NY', 'LA', 'LA'], 'Type': ['Online', 'Store', 'Online', 'Store'], 'Sales': [200, 250, 300, 350]}\n",
    "df = pd.DataFrame(data)\n",
    "\n",
    "# Pivoting to create a DataFrame with MultiIndex columns\n",
    "pivot_df = df.pivot(index='Date', columns=['City', 'Type'], values='Sales')\n",
    "\n",
    "print('Pivoted DataFrame with MultiIndex Columns:\\n', pivot_df)\n"
   ]
  },
  {
   "cell_type": "code",
   "execution_count": 28,
   "id": "b0d406cf",
   "metadata": {},
   "outputs": [
    {
     "name": "stdout",
     "output_type": "stream",
     "text": [
      "Stacked DataFrame:\n",
      " City      \n",
      "NY    2020    100\n",
      "      2021    200\n",
      "LA    2020    150\n",
      "      2021    250\n",
      "dtype: int64\n",
      "Unstacked DataFrame:\n",
      "       2020  2021\n",
      "City            \n",
      "NY     100   200\n",
      "LA     150   250\n"
     ]
    }
   ],
   "source": [
    "# Example 56: Pandas - Stacking and Unstacking DataFrames\n",
    "import pandas as pd\n",
    "\n",
    "# Creating a DataFrame\n",
    "data = {'City': ['NY', 'LA'], '2020': [100, 150], '2021': [200, 250]}\n",
    "df = pd.DataFrame(data).set_index('City')\n",
    "\n",
    "# Stacking and unstacking the DataFrame\n",
    "stacked_df = df.stack()\n",
    "unstacked_df = stacked_df.unstack()\n",
    "\n",
    "print('Stacked DataFrame:\\n', stacked_df)\n",
    "print('Unstacked DataFrame:\\n', unstacked_df)\n"
   ]
  },
  {
   "cell_type": "code",
   "execution_count": 29,
   "id": "51f857e2",
   "metadata": {},
   "outputs": [
    {
     "name": "stdout",
     "output_type": "stream",
     "text": [
      "DataFrame with Forward Fill:\n",
      "      A    B\n",
      "0  1.0  4.0\n",
      "1  1.0  5.0\n",
      "2  3.0  5.0\n",
      "DataFrame with Backward Fill:\n",
      "      A    B\n",
      "0  1.0  4.0\n",
      "1  3.0  5.0\n",
      "2  3.0  NaN\n"
     ]
    },
    {
     "name": "stderr",
     "output_type": "stream",
     "text": [
      "C:\\Users\\user\\AppData\\Local\\Temp\\ipykernel_14384\\1026407949.py:10: FutureWarning: DataFrame.fillna with 'method' is deprecated and will raise in a future version. Use obj.ffill() or obj.bfill() instead.\n",
      "  df_ffill = df.fillna(method='ffill')\n",
      "C:\\Users\\user\\AppData\\Local\\Temp\\ipykernel_14384\\1026407949.py:11: FutureWarning: DataFrame.fillna with 'method' is deprecated and will raise in a future version. Use obj.ffill() or obj.bfill() instead.\n",
      "  df_bfill = df.fillna(method='bfill')\n"
     ]
    }
   ],
   "source": [
    "# Example 57: Pandas - Using ffill and bfill for Missing Values\n",
    "import pandas as pd\n",
    "import numpy as np\n",
    "\n",
    "# Creating a DataFrame with missing values\n",
    "data = {'A': [1, np.nan, 3], 'B': [4, 5, np.nan]}\n",
    "df = pd.DataFrame(data)\n",
    "\n",
    "# Using ffill and bfill to fill missing values\n",
    "df_ffill = df.fillna(method='ffill')\n",
    "df_bfill = df.fillna(method='bfill')\n",
    "\n",
    "print('DataFrame with Forward Fill:\\n', df_ffill)\n",
    "print('DataFrame with Backward Fill:\\n', df_bfill)\n"
   ]
  },
  {
   "cell_type": "code",
   "execution_count": 30,
   "id": "d3e4687f",
   "metadata": {},
   "outputs": [
    {
     "name": "stdout",
     "output_type": "stream",
     "text": [
      "Melted DataFrame:\n",
      "    ID  Subject  Score\n",
      "0   1     Math     90\n",
      "1   2     Math     80\n",
      "2   1  Science     85\n",
      "3   2  Science     88\n"
     ]
    }
   ],
   "source": [
    "# Example 58: Pandas - Using melt() to Reshape Data\n",
    "import pandas as pd\n",
    "\n",
    "# Creating a DataFrame\n",
    "data = {'ID': [1, 2], 'Math': [90, 80], 'Science': [85, 88]}\n",
    "df = pd.DataFrame(data)\n",
    "\n",
    "# Melting the DataFrame\n",
    "melted_df = pd.melt(df, id_vars=['ID'], var_name='Subject', value_name='Score')\n",
    "\n",
    "print('Melted DataFrame:\\n', melted_df)\n"
   ]
  },
  {
   "cell_type": "code",
   "execution_count": 31,
   "id": "aa624af5",
   "metadata": {},
   "outputs": [
    {
     "name": "stdout",
     "output_type": "stream",
     "text": [
      "DataFrame with Shifted Time Series Data:\n",
      "             Sales  Previous Day Sales\n",
      "2023-01-01    200                 NaN\n",
      "2023-01-02    250               200.0\n",
      "2023-01-03    300               250.0\n",
      "2023-01-04    350               300.0\n",
      "2023-01-05    400               350.0\n"
     ]
    }
   ],
   "source": [
    "# Example 59: Pandas - Using shift() for Time Series Analysis\n",
    "import pandas as pd\n",
    "\n",
    "# Creating a time series DataFrame\n",
    "date_range = pd.date_range(start='2023-01-01', periods=5, freq='D')\n",
    "data = {'Sales': [200, 250, 300, 350, 400]}\n",
    "df = pd.DataFrame(data, index=date_range)\n",
    "\n",
    "# Shifting the data to create a lags\n",
    "\n",
    "df['Previous Day Sales'] = df['Sales'].shift(1)\n",
    "\n",
    "print('DataFrame with Shifted Time Series Data:\\n', df)\n"
   ]
  },
  {
   "cell_type": "code",
   "execution_count": 32,
   "id": "80760a22",
   "metadata": {},
   "outputs": [
    {
     "name": "stdout",
     "output_type": "stream",
     "text": [
      "DataFrame with Custom MultiIndex:\n",
      "                Sales\n",
      "Category Year       \n",
      "A        2020    100\n",
      "         2021    150\n",
      "B        2020    200\n",
      "         2021    250\n"
     ]
    }
   ],
   "source": [
    "# Example 60: Pandas - Creating Custom Indexes with MultiIndex\n",
    "import pandas as pd\n",
    "\n",
    "# Creating a MultiIndex from tuples\n",
    "index = pd.MultiIndex.from_tuples([('A', 2020), ('A', 2021), ('B', 2020), ('B', 2021)], names=['Category', 'Year'])\n",
    "data = [100, 150, 200, 250]\n",
    "df = pd.DataFrame(data, index=index, columns=['Sales'])\n",
    "\n",
    "print('DataFrame with Custom MultiIndex:\\n', df)\n"
   ]
  },
  {
   "cell_type": "code",
   "execution_count": null,
   "id": "f40db08b",
   "metadata": {},
   "outputs": [],
   "source": []
  }
 ],
 "metadata": {
  "kernelspec": {
   "display_name": "Python 3 (ipykernel)",
   "language": "python",
   "name": "python3"
  },
  "language_info": {
   "codemirror_mode": {
    "name": "ipython",
    "version": 3
   },
   "file_extension": ".py",
   "mimetype": "text/x-python",
   "name": "python",
   "nbconvert_exporter": "python",
   "pygments_lexer": "ipython3",
   "version": "3.11.5"
  }
 },
 "nbformat": 4,
 "nbformat_minor": 5
}
